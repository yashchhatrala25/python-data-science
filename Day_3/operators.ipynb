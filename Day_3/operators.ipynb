{
 "cells": [
  {
   "cell_type": "markdown",
   "id": "22d950ac-8d55-4077-a683-99e7c70fb0c0",
   "metadata": {},
   "source": [
    "# Lacture 4"
   ]
  },
  {
   "cell_type": "markdown",
   "id": "4171a37c-57aa-40ab-80cd-07ce9c51f539",
   "metadata": {},
   "source": [
    "# Arithmetic Operator"
   ]
  },
  {
   "cell_type": "markdown",
   "id": "e4e065a6-4426-4b7e-8aaf-ab3d440434e0",
   "metadata": {},
   "source": [
    "# Addition"
   ]
  },
  {
   "cell_type": "code",
   "execution_count": 4,
   "id": "08a02fd2-4f96-4d05-b683-f81a8fbd0bb2",
   "metadata": {},
   "outputs": [
    {
     "name": "stdout",
     "output_type": "stream",
     "text": [
      "3\n"
     ]
    }
   ],
   "source": [
    "a = 1\n",
    "b = 2\n",
    "print(a+b)"
   ]
  },
  {
   "cell_type": "code",
   "execution_count": 6,
   "id": "8f7c187c-37fd-49b0-9b22-7252d5eb8665",
   "metadata": {},
   "outputs": [
    {
     "name": "stdout",
     "output_type": "stream",
     "text": [
      "3.8\n"
     ]
    }
   ],
   "source": [
    "x = 1.5\n",
    "y = 2.3\n",
    "print(x+y)"
   ]
  },
  {
   "cell_type": "code",
   "execution_count": 10,
   "id": "253cac2d-30b5-479b-8a9f-f83617abeab3",
   "metadata": {},
   "outputs": [
    {
     "name": "stdout",
     "output_type": "stream",
     "text": [
      "hello students\n"
     ]
    }
   ],
   "source": [
    "a1 = \"hello\"\n",
    "b1 = \"students\"\n",
    "print(a1+\" \"+b1)"
   ]
  },
  {
   "cell_type": "code",
   "execution_count": 12,
   "id": "652933b8-1437-4566-907b-2638b15ed094",
   "metadata": {},
   "outputs": [
    {
     "name": "stdout",
     "output_type": "stream",
     "text": [
      "(3+8j)\n"
     ]
    }
   ],
   "source": [
    "x1 = 2+3j\n",
    "y1 = 1+5j\n",
    "print(x1+y1)"
   ]
  },
  {
   "cell_type": "code",
   "execution_count": 14,
   "id": "b4daea68-d905-4845-aa9a-9cb2f05fd133",
   "metadata": {},
   "outputs": [
    {
     "name": "stdout",
     "output_type": "stream",
     "text": [
      "-3\n"
     ]
    }
   ],
   "source": [
    "w1 = -6\n",
    "w2 = 3\n",
    "print(w1+w2)"
   ]
  },
  {
   "cell_type": "markdown",
   "id": "ba46d199-1cc8-49cb-9f5b-f23ea4ddc672",
   "metadata": {},
   "source": [
    "# Substraction operator"
   ]
  },
  {
   "cell_type": "code",
   "execution_count": 17,
   "id": "9c725c7f-cb3a-4b0f-a7e4-b0911b788f61",
   "metadata": {},
   "outputs": [
    {
     "name": "stdout",
     "output_type": "stream",
     "text": [
      "4\n"
     ]
    }
   ],
   "source": [
    "num1 = 8\n",
    "num2 = 4\n",
    "print(num1-num2)"
   ]
  },
  {
   "cell_type": "code",
   "execution_count": 19,
   "id": "fbc21113-f947-45ca-9493-3dc38f7f4b31",
   "metadata": {},
   "outputs": [
    {
     "name": "stdout",
     "output_type": "stream",
     "text": [
      "3.33\n"
     ]
    }
   ],
   "source": [
    "a4 = 5.67\n",
    "b4 = 2.34\n",
    "print(a4-b4)"
   ]
  },
  {
   "cell_type": "code",
   "execution_count": 21,
   "id": "e67f0b84-4717-4873-bc52-7b13966c3df1",
   "metadata": {},
   "outputs": [
    {
     "ename": "TypeError",
     "evalue": "unsupported operand type(s) for -: 'str' and 'str'",
     "output_type": "error",
     "traceback": [
      "\u001b[1;31m---------------------------------------------------------------------------\u001b[0m",
      "\u001b[1;31mTypeError\u001b[0m                                 Traceback (most recent call last)",
      "Cell \u001b[1;32mIn[21], line 3\u001b[0m\n\u001b[0;32m      1\u001b[0m a5 \u001b[38;5;241m=\u001b[39m \u001b[38;5;124m\"\u001b[39m\u001b[38;5;124mHello\u001b[39m\u001b[38;5;124m\"\u001b[39m\n\u001b[0;32m      2\u001b[0m a6 \u001b[38;5;241m=\u001b[39m \u001b[38;5;124m\"\u001b[39m\u001b[38;5;124mstudents\u001b[39m\u001b[38;5;124m\"\u001b[39m\n\u001b[1;32m----> 3\u001b[0m \u001b[38;5;28mprint\u001b[39m(a5\u001b[38;5;241m-\u001b[39ma6)\n",
      "\u001b[1;31mTypeError\u001b[0m: unsupported operand type(s) for -: 'str' and 'str'"
     ]
    }
   ],
   "source": [
    "a5 = \"Hello\"\n",
    "a6 = \"students\"\n",
    "print(a5-a6)"
   ]
  },
  {
   "cell_type": "code",
   "execution_count": 23,
   "id": "be37e99b-50cd-449f-8260-8cdca1b2a835",
   "metadata": {},
   "outputs": [
    {
     "name": "stdout",
     "output_type": "stream",
     "text": [
      "(2+4j)\n"
     ]
    }
   ],
   "source": [
    "a6 = 5+9j\n",
    "b6 = 3+5j\n",
    "print(a6-b6)"
   ]
  },
  {
   "cell_type": "markdown",
   "id": "abda4018-6bbb-4db5-b4a8-77cb788d0fbe",
   "metadata": {},
   "source": [
    "# Multiplication"
   ]
  },
  {
   "cell_type": "code",
   "execution_count": 26,
   "id": "76fd7c1a-0c90-4779-997a-e4570ec7deb2",
   "metadata": {},
   "outputs": [
    {
     "name": "stdout",
     "output_type": "stream",
     "text": [
      "15\n"
     ]
    }
   ],
   "source": [
    "n = 3\n",
    "b = 5\n",
    "print(n*b)"
   ]
  },
  {
   "cell_type": "code",
   "execution_count": 30,
   "id": "efade26a-7d21-4807-8fde-e74fbb8f2f05",
   "metadata": {},
   "outputs": [
    {
     "name": "stdout",
     "output_type": "stream",
     "text": [
      "19.402\n"
     ]
    }
   ],
   "source": [
    "n1 = 3.56\n",
    "b1 = 5.45\n",
    "print(n1*b1)"
   ]
  },
  {
   "cell_type": "code",
   "execution_count": 32,
   "id": "bc8c6a55-5d31-4c0a-845f-89f0972d5369",
   "metadata": {},
   "outputs": [
    {
     "name": "stdout",
     "output_type": "stream",
     "text": [
      "hellohellohellohellohello\n"
     ]
    }
   ],
   "source": [
    "str=\"hello\"\n",
    "print(str*5)"
   ]
  },
  {
   "cell_type": "code",
   "execution_count": 34,
   "id": "c3073d6d-3d11-43c3-9f21-3884f9250ee5",
   "metadata": {},
   "outputs": [
    {
     "ename": "TypeError",
     "evalue": "can't multiply sequence by non-int of type 'str'",
     "output_type": "error",
     "traceback": [
      "\u001b[1;31m---------------------------------------------------------------------------\u001b[0m",
      "\u001b[1;31mTypeError\u001b[0m                                 Traceback (most recent call last)",
      "Cell \u001b[1;32mIn[34], line 3\u001b[0m\n\u001b[0;32m      1\u001b[0m str1\u001b[38;5;241m=\u001b[39m\u001b[38;5;124m\"\u001b[39m\u001b[38;5;124mhello\u001b[39m\u001b[38;5;124m\"\u001b[39m\n\u001b[0;32m      2\u001b[0m str2\u001b[38;5;241m=\u001b[39m\u001b[38;5;124m\"\u001b[39m\u001b[38;5;124mworld\u001b[39m\u001b[38;5;124m\"\u001b[39m\n\u001b[1;32m----> 3\u001b[0m \u001b[38;5;28mprint\u001b[39m(str1\u001b[38;5;241m*\u001b[39mstr2)\n",
      "\u001b[1;31mTypeError\u001b[0m: can't multiply sequence by non-int of type 'str'"
     ]
    }
   ],
   "source": [
    "str1=\"hello\"\n",
    "str2=\"world\"\n",
    "print(str1*str2)"
   ]
  },
  {
   "cell_type": "code",
   "execution_count": 36,
   "id": "e4bb3a80-a759-4775-a072-9dc89c64ebca",
   "metadata": {},
   "outputs": [
    {
     "name": "stdout",
     "output_type": "stream",
     "text": [
      "(-6+17j)\n"
     ]
    }
   ],
   "source": [
    "a1 = 2+3j\n",
    "b1 = 3+4j\n",
    "print(a1*b1)"
   ]
  },
  {
   "cell_type": "code",
   "execution_count": 38,
   "id": "4e200aae-07b6-48e1-814f-077275c41f6b",
   "metadata": {},
   "outputs": [
    {
     "name": "stdout",
     "output_type": "stream",
     "text": [
      "5.0\n"
     ]
    }
   ],
   "source": [
    "a = 15\n",
    "b = 3\n",
    "print(a/b)"
   ]
  },
  {
   "cell_type": "code",
   "execution_count": 40,
   "id": "352186d6-56ef-43e3-bcd5-c88d711967c9",
   "metadata": {},
   "outputs": [
    {
     "name": "stdout",
     "output_type": "stream",
     "text": [
      "42268.36287780485\n"
     ]
    }
   ],
   "source": [
    "a1 = 512484.45644646\n",
    "b1 = 12.12454\n",
    "print(a1/b1)"
   ]
  },
  {
   "cell_type": "code",
   "execution_count": 42,
   "id": "9a125fe3-6f4b-4004-88d8-4053965d69eb",
   "metadata": {},
   "outputs": [
    {
     "name": "stdout",
     "output_type": "stream",
     "text": [
      "(1.6-0.2j)\n"
     ]
    }
   ],
   "source": [
    "com1 = 2+3j\n",
    "com2 = 1+2j\n",
    "print(com1/com2)"
   ]
  },
  {
   "cell_type": "code",
   "execution_count": 44,
   "id": "432c5a7d-769f-4012-9851-d5b6843a6288",
   "metadata": {},
   "outputs": [
    {
     "ename": "TypeError",
     "evalue": "unsupported operand type(s) for /: 'str' and 'str'",
     "output_type": "error",
     "traceback": [
      "\u001b[1;31m---------------------------------------------------------------------------\u001b[0m",
      "\u001b[1;31mTypeError\u001b[0m                                 Traceback (most recent call last)",
      "Cell \u001b[1;32mIn[44], line 3\u001b[0m\n\u001b[0;32m      1\u001b[0m str1\u001b[38;5;241m=\u001b[39m\u001b[38;5;124m\"\u001b[39m\u001b[38;5;124mhello\u001b[39m\u001b[38;5;124m\"\u001b[39m\n\u001b[0;32m      2\u001b[0m str2\u001b[38;5;241m=\u001b[39m\u001b[38;5;124m\"\u001b[39m\u001b[38;5;124mworld\u001b[39m\u001b[38;5;124m\"\u001b[39m\n\u001b[1;32m----> 3\u001b[0m \u001b[38;5;28mprint\u001b[39m(str1\u001b[38;5;241m/\u001b[39mstr2)\n",
      "\u001b[1;31mTypeError\u001b[0m: unsupported operand type(s) for /: 'str' and 'str'"
     ]
    }
   ],
   "source": [
    "str1=\"hello\"\n",
    "str2=\"world\"\n",
    "print(str1/str2)"
   ]
  },
  {
   "cell_type": "markdown",
   "id": "87f72369-05ba-4c6d-a3a7-87bd64eec4f9",
   "metadata": {},
   "source": [
    "# Modulous"
   ]
  },
  {
   "cell_type": "code",
   "execution_count": 47,
   "id": "929796ce-0ac7-4c2c-972c-d7922e6c0875",
   "metadata": {},
   "outputs": [
    {
     "name": "stdout",
     "output_type": "stream",
     "text": [
      "0\n"
     ]
    }
   ],
   "source": [
    "print(12%3)"
   ]
  },
  {
   "cell_type": "code",
   "execution_count": 49,
   "id": "9f891848-3873-40eb-8678-6974811b3d5a",
   "metadata": {},
   "outputs": [
    {
     "name": "stdout",
     "output_type": "stream",
     "text": [
      "4\n"
     ]
    }
   ],
   "source": [
    "print(19%5)"
   ]
  },
  {
   "cell_type": "code",
   "execution_count": 51,
   "id": "b3fca5ea-1d5f-4852-a690-8b132236c6f5",
   "metadata": {},
   "outputs": [
    {
     "name": "stdout",
     "output_type": "stream",
     "text": [
      "8.115000000000006\n"
     ]
    }
   ],
   "source": [
    "a1 = 45.465\n",
    "b1 = 12.45\n",
    "print(a1%b1)"
   ]
  },
  {
   "cell_type": "code",
   "execution_count": 53,
   "id": "f1cb3da1-ca4e-4159-9914-2905e77b2757",
   "metadata": {},
   "outputs": [
    {
     "ename": "TypeError",
     "evalue": "unsupported operand type(s) for %: 'complex' and 'int'",
     "output_type": "error",
     "traceback": [
      "\u001b[1;31m---------------------------------------------------------------------------\u001b[0m",
      "\u001b[1;31mTypeError\u001b[0m                                 Traceback (most recent call last)",
      "Cell \u001b[1;32mIn[53], line 3\u001b[0m\n\u001b[0;32m      1\u001b[0m a2 \u001b[38;5;241m=\u001b[39m \u001b[38;5;241m5\u001b[39m\u001b[38;5;241m+\u001b[39m\u001b[38;5;241m3\u001b[39mj\n\u001b[0;32m      2\u001b[0m b1 \u001b[38;5;241m=\u001b[39m \u001b[38;5;241m3\u001b[39m\n\u001b[1;32m----> 3\u001b[0m \u001b[38;5;28mprint\u001b[39m(a2\u001b[38;5;241m%\u001b[39mb1)\n",
      "\u001b[1;31mTypeError\u001b[0m: unsupported operand type(s) for %: 'complex' and 'int'"
     ]
    }
   ],
   "source": [
    "a2 = 5+3j\n",
    "b1 = 3\n",
    "print(a2%b1)"
   ]
  },
  {
   "cell_type": "code",
   "execution_count": 55,
   "id": "90a4f7a1-e5ad-4d50-93ba-160392cdeffe",
   "metadata": {},
   "outputs": [
    {
     "ename": "TypeError",
     "evalue": "unsupported operand type(s) for %: 'complex' and 'complex'",
     "output_type": "error",
     "traceback": [
      "\u001b[1;31m---------------------------------------------------------------------------\u001b[0m",
      "\u001b[1;31mTypeError\u001b[0m                                 Traceback (most recent call last)",
      "Cell \u001b[1;32mIn[55], line 3\u001b[0m\n\u001b[0;32m      1\u001b[0m x2 \u001b[38;5;241m=\u001b[39m \u001b[38;5;241m5\u001b[39m\u001b[38;5;241m+\u001b[39m\u001b[38;5;241m3\u001b[39mj\n\u001b[0;32m      2\u001b[0m y1 \u001b[38;5;241m=\u001b[39m \u001b[38;5;241m3\u001b[39m\u001b[38;5;241m+\u001b[39m\u001b[38;5;241m2\u001b[39mj\n\u001b[1;32m----> 3\u001b[0m \u001b[38;5;28mprint\u001b[39m(x2\u001b[38;5;241m%\u001b[39my1)\n",
      "\u001b[1;31mTypeError\u001b[0m: unsupported operand type(s) for %: 'complex' and 'complex'"
     ]
    }
   ],
   "source": [
    "x2 = 5+3j\n",
    "y1 = 3+2j\n",
    "print(x2%y1)"
   ]
  },
  {
   "cell_type": "code",
   "execution_count": 57,
   "id": "0ebae830-8e53-407a-9f70-322d0680b411",
   "metadata": {},
   "outputs": [
    {
     "name": "stdout",
     "output_type": "stream",
     "text": [
      "7\n"
     ]
    }
   ],
   "source": [
    "print(21//3)"
   ]
  },
  {
   "cell_type": "code",
   "execution_count": 59,
   "id": "9d1c2e5c-ac85-4cc5-b4dc-9ce7570ccfb1",
   "metadata": {},
   "outputs": [
    {
     "name": "stdout",
     "output_type": "stream",
     "text": [
      "10143\n"
     ]
    }
   ],
   "source": [
    "print(456456//45)"
   ]
  },
  {
   "cell_type": "code",
   "execution_count": 61,
   "id": "59a1e07b-3a6d-4ecd-a804-45bebff78cdf",
   "metadata": {},
   "outputs": [
    {
     "ename": "NameError",
     "evalue": "name 'pritn' is not defined",
     "output_type": "error",
     "traceback": [
      "\u001b[1;31m---------------------------------------------------------------------------\u001b[0m",
      "\u001b[1;31mNameError\u001b[0m                                 Traceback (most recent call last)",
      "Cell \u001b[1;32mIn[61], line 1\u001b[0m\n\u001b[1;32m----> 1\u001b[0m pritn(\u001b[38;5;241m5.23\u001b[39m\u001b[38;5;241m%\u001b[39m\u001b[38;5;241m2\u001b[39m)\n",
      "\u001b[1;31mNameError\u001b[0m: name 'pritn' is not defined"
     ]
    }
   ],
   "source": [
    "pritn(5.23%2)"
   ]
  },
  {
   "cell_type": "code",
   "execution_count": 63,
   "id": "46ee8e68-198c-410b-b7da-5ef83f020e55",
   "metadata": {},
   "outputs": [
    {
     "name": "stdout",
     "output_type": "stream",
     "text": [
      "1.2300000000000004\n"
     ]
    }
   ],
   "source": [
    "print(5.23%2)"
   ]
  },
  {
   "cell_type": "markdown",
   "id": "b40ff7c6-05e3-40f3-93f9-ab152b3ff292",
   "metadata": {},
   "source": [
    "# Exponent"
   ]
  },
  {
   "cell_type": "code",
   "execution_count": 66,
   "id": "9e10b94b-4ff4-445f-a4fe-cc4f72574d0e",
   "metadata": {},
   "outputs": [
    {
     "name": "stdout",
     "output_type": "stream",
     "text": [
      "9\n"
     ]
    }
   ],
   "source": [
    "a=3\n",
    "b=2\n",
    "print(a**b)"
   ]
  },
  {
   "cell_type": "code",
   "execution_count": 68,
   "id": "b047edcc-0c16-4151-8baa-06018416f6c6",
   "metadata": {},
   "outputs": [
    {
     "name": "stdout",
     "output_type": "stream",
     "text": [
      "100841012541648255456825344\n"
     ]
    }
   ],
   "source": [
    "print(465456464**3)"
   ]
  },
  {
   "cell_type": "code",
   "execution_count": 70,
   "id": "027a3ab0-4770-42ad-aac9-b971f850a081",
   "metadata": {},
   "outputs": [
    {
     "name": "stdout",
     "output_type": "stream",
     "text": [
      "2.4\n"
     ]
    }
   ],
   "source": [
    "w = 60\n",
    "h = 5\n",
    "v = h**2\n",
    "print(w/v)"
   ]
  },
  {
   "cell_type": "markdown",
   "id": "7ad6f0ac-64b3-424b-8101-88538b87725c",
   "metadata": {},
   "source": [
    "# Boolean Operator"
   ]
  },
  {
   "cell_type": "code",
   "execution_count": 73,
   "id": "2bc3a27d-c2e2-4979-8ac5-ffd8fe8cffa3",
   "metadata": {},
   "outputs": [
    {
     "name": "stdout",
     "output_type": "stream",
     "text": [
      "<class 'bool'>\n"
     ]
    }
   ],
   "source": [
    "a = True\n",
    "print(type(a))"
   ]
  },
  {
   "cell_type": "code",
   "execution_count": 75,
   "id": "e2702b5c-e2b8-49b6-8160-a2783f6d41ce",
   "metadata": {},
   "outputs": [
    {
     "name": "stdout",
     "output_type": "stream",
     "text": [
      "<class 'bool'>\n"
     ]
    }
   ],
   "source": [
    "a1 = False\n",
    "print(type(a1))"
   ]
  },
  {
   "cell_type": "markdown",
   "id": "9154feb0-6c3e-4ffb-9651-2f7fd75b846c",
   "metadata": {},
   "source": [
    "# Comparison Operator"
   ]
  },
  {
   "cell_type": "code",
   "execution_count": null,
   "id": "b184751d-a503-4191-8ecb-65c6e00c0241",
   "metadata": {},
   "outputs": [],
   "source": [
    "In Python, comparison operators are used to compare values. These operators return True or False based\n",
    "on whether the comparison is true or false"
   ]
  },
  {
   "cell_type": "markdown",
   "id": "61b64ffc-8e94-41a0-b8f8-3067eb103112",
   "metadata": {},
   "source": [
    "# Equal to =="
   ]
  },
  {
   "cell_type": "code",
   "execution_count": 81,
   "id": "97e842fa-3c4c-440d-8011-15a2f25e7f7d",
   "metadata": {},
   "outputs": [
    {
     "name": "stdout",
     "output_type": "stream",
     "text": [
      "True\n"
     ]
    }
   ],
   "source": [
    "x = 5\n",
    "y = 5\n",
    "print(x==y)"
   ]
  },
  {
   "cell_type": "code",
   "execution_count": 83,
   "id": "bbe9d8c9-64a1-4d64-a77c-c511050f5ff7",
   "metadata": {},
   "outputs": [
    {
     "name": "stdout",
     "output_type": "stream",
     "text": [
      "False\n"
     ]
    }
   ],
   "source": [
    "x = 5\n",
    "y = 6\n",
    "print(x==y)"
   ]
  },
  {
   "cell_type": "markdown",
   "id": "c76d4dd7-c70a-4e2c-9e7c-151c3aa7375b",
   "metadata": {},
   "source": [
    "# not equal !="
   ]
  },
  {
   "cell_type": "code",
   "execution_count": 86,
   "id": "14d58543-f6fd-473f-8770-f1ce444b0280",
   "metadata": {},
   "outputs": [
    {
     "name": "stdout",
     "output_type": "stream",
     "text": [
      "True\n"
     ]
    }
   ],
   "source": [
    "x = 5\n",
    "y = 3\n",
    "print(x!=y)"
   ]
  },
  {
   "cell_type": "code",
   "execution_count": 88,
   "id": "b6494d3a-964c-417c-9f0a-1b64cbfeaeba",
   "metadata": {},
   "outputs": [
    {
     "name": "stdout",
     "output_type": "stream",
     "text": [
      "False\n"
     ]
    }
   ],
   "source": [
    "x = 5\n",
    "y = 5\n",
    "print(x!=y)"
   ]
  },
  {
   "cell_type": "markdown",
   "id": "f7538bd0-512b-4a7e-b90b-9a1ae174f469",
   "metadata": {},
   "source": [
    "# grater than >"
   ]
  },
  {
   "cell_type": "code",
   "execution_count": 91,
   "id": "e8419841-bfff-421f-ad5e-d09e0b87579b",
   "metadata": {},
   "outputs": [
    {
     "name": "stdout",
     "output_type": "stream",
     "text": [
      "True\n"
     ]
    }
   ],
   "source": [
    "x = 5\n",
    "y = 3\n",
    "print(x>y)"
   ]
  },
  {
   "cell_type": "code",
   "execution_count": 93,
   "id": "01df525b-f0d7-411e-8948-1886047806dc",
   "metadata": {},
   "outputs": [
    {
     "name": "stdout",
     "output_type": "stream",
     "text": [
      "False\n"
     ]
    }
   ],
   "source": [
    "x = 5\n",
    "y = 13\n",
    "print(x>y)"
   ]
  },
  {
   "cell_type": "markdown",
   "id": "df4d95a0-cd5e-4a8e-8c9d-67dfb5287ec8",
   "metadata": {},
   "source": [
    "# less than <"
   ]
  },
  {
   "cell_type": "code",
   "execution_count": 96,
   "id": "892b54f9-fd40-41f2-9472-86c506ce191f",
   "metadata": {},
   "outputs": [
    {
     "name": "stdout",
     "output_type": "stream",
     "text": [
      "False\n"
     ]
    }
   ],
   "source": [
    "x = 5\n",
    "y = 3\n",
    "print(x<y)"
   ]
  },
  {
   "cell_type": "code",
   "execution_count": 98,
   "id": "139adb9c-65a5-479f-9f47-3ffd74d2da0c",
   "metadata": {},
   "outputs": [
    {
     "name": "stdout",
     "output_type": "stream",
     "text": [
      "True\n"
     ]
    }
   ],
   "source": [
    "x = 5\n",
    "y = 13\n",
    "print(x<y)"
   ]
  },
  {
   "cell_type": "markdown",
   "id": "0457a868-0a5d-4afa-b9d9-4aec0078148d",
   "metadata": {},
   "source": [
    "# grater than or equal to >="
   ]
  },
  {
   "cell_type": "code",
   "execution_count": 103,
   "id": "45558869-b1cb-4bd1-a20f-c09031ba76fd",
   "metadata": {},
   "outputs": [
    {
     "name": "stdout",
     "output_type": "stream",
     "text": [
      "True\n"
     ]
    }
   ],
   "source": [
    "x = 5\n",
    "y = 5\n",
    "print(x>=y)"
   ]
  },
  {
   "cell_type": "markdown",
   "id": "d0fff785-34be-4d0f-8144-6ae3e0dbf22c",
   "metadata": {},
   "source": [
    "# less than or equal to <="
   ]
  },
  {
   "cell_type": "code",
   "execution_count": 106,
   "id": "90061216-740a-4baf-b576-9a073828c063",
   "metadata": {},
   "outputs": [
    {
     "name": "stdout",
     "output_type": "stream",
     "text": [
      "True\n"
     ]
    }
   ],
   "source": [
    "x = 5\n",
    "y = 5\n",
    "print(x<=y)"
   ]
  },
  {
   "cell_type": "markdown",
   "id": "719839cd-558f-4cb0-a628-90fb3dc3cf12",
   "metadata": {},
   "source": [
    "# Logical operator"
   ]
  },
  {
   "cell_type": "code",
   "execution_count": 109,
   "id": "e03acefb-5a2b-45a4-abb8-e3f56bf1622c",
   "metadata": {},
   "outputs": [
    {
     "name": "stdout",
     "output_type": "stream",
     "text": [
      "False\n"
     ]
    }
   ],
   "source": [
    "x = True\n",
    "y = False\n",
    "print(x and y)"
   ]
  },
  {
   "cell_type": "code",
   "execution_count": 111,
   "id": "3c277c0d-f6a8-4487-9d42-5e7f61faf44d",
   "metadata": {},
   "outputs": [
    {
     "name": "stdout",
     "output_type": "stream",
     "text": [
      "True\n"
     ]
    }
   ],
   "source": [
    "x = True\n",
    "y = False\n",
    "print(x or y)"
   ]
  },
  {
   "cell_type": "code",
   "execution_count": 113,
   "id": "0d2a7af6-2609-46ec-ad5e-28a0bbc3337e",
   "metadata": {},
   "outputs": [
    {
     "name": "stdout",
     "output_type": "stream",
     "text": [
      "False\n"
     ]
    }
   ],
   "source": [
    "x = True\n",
    "print(not x)"
   ]
  },
  {
   "cell_type": "code",
   "execution_count": null,
   "id": "868885b3-157f-4418-88ad-e596c08e13d8",
   "metadata": {},
   "outputs": [],
   "source": []
  },
  {
   "cell_type": "markdown",
   "id": "0cc0a358-4941-4a95-a8f8-29efe1b0a759",
   "metadata": {},
   "source": [
    "# Practice Questions"
   ]
  },
  {
   "cell_type": "markdown",
   "id": "ff9e95b6-3e5c-431b-8f3a-8e7eba58958d",
   "metadata": {},
   "source": [
    "## Question 1\n",
    "You have a data containing two record: \"Quantity\" and \"Price per Unit\". How would you use arithmetic\n",
    "operators to calculate the total cost for each item, also calculate the total cost? product 1,\n",
    "Quantity -5, Price per Unit - Rs 250 product 2, Quantity - 25, Price per Unit - Rs 656 product 3,\n",
    "Quantity - 34, Price per Unit - Rs 274"
   ]
  },
  {
   "cell_type": "code",
   "execution_count": 131,
   "id": "67dbb9aa-939a-4c32-bd95-984e356dc247",
   "metadata": {},
   "outputs": [
    {
     "name": "stdout",
     "output_type": "stream",
     "text": [
      "The price of product1 is 1250\n",
      "The price of product2 is 16400\n",
      "The price of product3 is 9316\n",
      "The total price customer need to pay is  26966\n"
     ]
    }
   ],
   "source": [
    "product_1 = 250*5\n",
    "product_2 = 25*656\n",
    "product_3 = 34*274\n",
    "print(\"The price of product1 is\", product_1)\n",
    "print(\"The price of product2 is\", product_2)\n",
    "print(\"The price of product3 is\", product_3)\n",
    "print(\"The total price customer need to pay is \", product_1 + product_2 + product_3)"
   ]
  },
  {
   "cell_type": "markdown",
   "id": "acddd0f2-dbae-4976-9ebd-ff488c6bd486",
   "metadata": {},
   "source": [
    "## Question 2\n",
    "In a finance-based organization, the task is to calculate the simple interest given the principal\n",
    "amount, interest rate, and time period. The interest rate is 8%, the principal amount is RS 15,00,000,\n",
    "and the time period is 3 years. Calculate the simple interest. Also, the threshold amount is RS\n",
    "1,20,000. Please check if the calculated interest is greater or less than the threshold amount."
   ]
  },
  {
   "cell_type": "code",
   "execution_count": 150,
   "id": "6e194de3-5f20-4ac2-8bcb-10197cfa07b5",
   "metadata": {},
   "outputs": [
    {
     "name": "stdout",
     "output_type": "stream",
     "text": [
      "The simple interest is  360000.0\n",
      "True\n",
      "The value of simple interest is grater than threshold\n"
     ]
    }
   ],
   "source": [
    "P = 1500000\n",
    "R = 8\n",
    "T = 3\n",
    "threshold = 120000\n",
    "SI = (P*R*T)/100\n",
    "print(\"The simple interest is \", SI)\n",
    "comp = SI>threshold\n",
    "print(comp)\n",
    "print(\"The value of simple interest is grater than threshold\")"
   ]
  },
  {
   "cell_type": "markdown",
   "id": "3bc6ae4d-b422-43a3-9c44-0203fe1eccf6",
   "metadata": {},
   "source": [
    "## Question 3\n",
    "Write a Python to calculate the area of circle with a radius of 12cm."
   ]
  },
  {
   "cell_type": "code",
   "execution_count": 153,
   "id": "1e2aa467-1c4f-451b-a0dd-f8e86ab71031",
   "metadata": {},
   "outputs": [
    {
     "name": "stdout",
     "output_type": "stream",
     "text": [
      "The area of circle is : 452.15999999999997\n"
     ]
    }
   ],
   "source": [
    "PI = 3.14\n",
    "area = 12\n",
    "print(\"The area of circle is :\", PI*area*area)"
   ]
  },
  {
   "cell_type": "code",
   "execution_count": null,
   "id": "06df869e-8fe1-4b5a-81dd-dca34ab4d699",
   "metadata": {},
   "outputs": [],
   "source": []
  }
 ],
 "metadata": {
  "kernelspec": {
   "display_name": "Python 3 (ipykernel)",
   "language": "python",
   "name": "python3"
  },
  "language_info": {
   "codemirror_mode": {
    "name": "ipython",
    "version": 3
   },
   "file_extension": ".py",
   "mimetype": "text/x-python",
   "name": "python",
   "nbconvert_exporter": "python",
   "pygments_lexer": "ipython3",
   "version": "3.12.4"
  }
 },
 "nbformat": 4,
 "nbformat_minor": 5
}
