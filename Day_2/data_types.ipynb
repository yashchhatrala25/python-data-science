{
 "cells": [
  {
   "cell_type": "markdown",
   "id": "9286f68b-3cfc-43ae-955f-c78c15e888ef",
   "metadata": {},
   "source": [
    "# Lacture - 2"
   ]
  },
  {
   "cell_type": "markdown",
   "id": "3953c0fa-8aee-4dec-aed6-fd86025c8215",
   "metadata": {},
   "source": [
    "# Variables & Data Types in Python"
   ]
  },
  {
   "cell_type": "markdown",
   "id": "093fd954-31de-4a34-a805-e8d1ec85325d",
   "metadata": {},
   "source": [
    "# Creating Variables"
   ]
  },
  {
   "cell_type": "code",
   "execution_count": 8,
   "id": "ac38b09a-078d-4051-9178-97a2589e1ef0",
   "metadata": {},
   "outputs": [
    {
     "name": "stdout",
     "output_type": "stream",
     "text": [
      "5\n"
     ]
    }
   ],
   "source": [
    "x = 5\n",
    "print(x)"
   ]
  },
  {
   "cell_type": "code",
   "execution_count": 10,
   "id": "ead3b837-c65c-4e4a-85e5-708cc814d567",
   "metadata": {},
   "outputs": [
    {
     "name": "stdout",
     "output_type": "stream",
     "text": [
      "10 2.5 yash\n"
     ]
    }
   ],
   "source": [
    "a = 10;\n",
    "b = 2.5;\n",
    "c = \"yash\"\n",
    "print(a, b, c);"
   ]
  },
  {
   "cell_type": "code",
   "execution_count": 12,
   "id": "1af3a0a9-b9b0-4996-8c65-068243ace26e",
   "metadata": {},
   "outputs": [
    {
     "name": "stdout",
     "output_type": "stream",
     "text": [
      " we are learning python \n"
     ]
    }
   ],
   "source": [
    "y = \" we are learning python \";\n",
    "print(y)"
   ]
  },
  {
   "cell_type": "code",
   "execution_count": 16,
   "id": "940e4623-e51f-4cbb-a953-21989e5f8b78",
   "metadata": {},
   "outputs": [
    {
     "name": "stdout",
     "output_type": "stream",
     "text": [
      "Variable               Type        Data/Info\n",
      "--------------------------------------------\n",
      "a                      int         10\n",
      "b                      float       2.5\n",
      "c                      str         yash\n",
      "dataframe_columns      function    <function dataframe_colum<...>ns at 0x000000000ACFBEC0>\n",
      "dataframe_hash         function    <function dataframe_hash at 0x0000000007683A60>\n",
      "dtypes_str             function    <function dtypes_str at 0x000000000ACFBD80>\n",
      "get_dataframes         function    <function get_dataframes at 0x000000000ACFBF60>\n",
      "getpass                module      <module 'getpass' from 'C<...>conda3\\\\Lib\\\\getpass.py'>\n",
      "hashlib                module      <module 'hashlib' from 'C<...>conda3\\\\Lib\\\\hashlib.py'>\n",
      "import_pandas_safely   function    <function import_pandas_s<...>ly at 0x00000000076F8360>\n",
      "is_data_frame          function    <function is_data_frame at 0x0000000007683880>\n",
      "json                   module      <module 'json' from 'C:\\\\<...>\\Lib\\\\json\\\\__init__.py'>\n",
      "x                      int         5\n",
      "y                      str          we are learning python \n"
     ]
    }
   ],
   "source": [
    "%whos"
   ]
  },
  {
   "cell_type": "code",
   "execution_count": null,
   "id": "2597b907-41df-4679-b2fe-aa97d702beb0",
   "metadata": {},
   "outputs": [],
   "source": [
    "# Rules for python variables:\n",
    "A variable name must start with a letter or the underscore character\n",
    "A variable name cannot start with a number\n",
    "A variable name can only contain alpha-numeric character and underscore (A-z, 0-9, and _)\n",
    "Variable names are case-sensitive (age, Age and AGE are three different variables)\n",
    "A variable name cannot be any of the Python keywords"
   ]
  },
  {
   "cell_type": "markdown",
   "id": "fc91316c-4589-449c-8990-2786dc63e03a",
   "metadata": {},
   "source": [
    "## A variable name must start with a letter or the underscore character"
   ]
  },
  {
   "cell_type": "code",
   "execution_count": 19,
   "id": "1ba8c592-d89c-41ab-a45a-b995bd65291e",
   "metadata": {},
   "outputs": [
    {
     "name": "stdout",
     "output_type": "stream",
     "text": [
      "23\n"
     ]
    }
   ],
   "source": [
    "apple = 23\n",
    "print(apple)"
   ]
  },
  {
   "cell_type": "code",
   "execution_count": 23,
   "id": "c92a4662-7512-4c45-ac56-9cc5ef5f0776",
   "metadata": {},
   "outputs": [
    {
     "name": "stdout",
     "output_type": "stream",
     "text": [
      "2.3\n"
     ]
    }
   ],
   "source": [
    "apple_box = 2.3\n",
    "print(apple_box)"
   ]
  },
  {
   "cell_type": "code",
   "execution_count": 25,
   "id": "e0f9c9ba-48c1-4db1-8c86-bb1f349d479d",
   "metadata": {},
   "outputs": [
    {
     "name": "stdout",
     "output_type": "stream",
     "text": [
      "5\n"
     ]
    }
   ],
   "source": [
    "_ = 5\n",
    "print(_)"
   ]
  },
  {
   "cell_type": "code",
   "execution_count": 27,
   "id": "25a118e4-02e2-48f0-82d3-5d2a86027f01",
   "metadata": {},
   "outputs": [
    {
     "name": "stdout",
     "output_type": "stream",
     "text": [
      "6.3\n"
     ]
    }
   ],
   "source": [
    "_Z = 6.3\n",
    "print(_Z)"
   ]
  },
  {
   "cell_type": "code",
   "execution_count": 29,
   "id": "1eae311c-1d5d-41cc-9e1f-b8bd115cff04",
   "metadata": {},
   "outputs": [
    {
     "name": "stdout",
     "output_type": "stream",
     "text": [
      "2\n"
     ]
    }
   ],
   "source": [
    "mnp_ = 2\n",
    "print(mnp_)"
   ]
  },
  {
   "cell_type": "markdown",
   "id": "4ecf5797-0dc9-4b59-83ce-412887f15b44",
   "metadata": {},
   "source": [
    "## A variable name cannot start with a number"
   ]
  },
  {
   "cell_type": "code",
   "execution_count": 32,
   "id": "17c4abfd-4fba-40cc-9283-2ee7599a8422",
   "metadata": {},
   "outputs": [
    {
     "ename": "SyntaxError",
     "evalue": "cannot assign to literal here. Maybe you meant '==' instead of '='? (2060739776.py, line 1)",
     "output_type": "error",
     "traceback": [
      "\u001b[1;36m  Cell \u001b[1;32mIn[32], line 1\u001b[1;36m\u001b[0m\n\u001b[1;33m    1 = 23\u001b[0m\n\u001b[1;37m    ^\u001b[0m\n\u001b[1;31mSyntaxError\u001b[0m\u001b[1;31m:\u001b[0m cannot assign to literal here. Maybe you meant '==' instead of '='?\n"
     ]
    }
   ],
   "source": [
    "1 = 23\n",
    "print(1)"
   ]
  },
  {
   "cell_type": "code",
   "execution_count": 34,
   "id": "32f333a9-280b-4612-b7b6-420d50f32d43",
   "metadata": {},
   "outputs": [
    {
     "name": "stdout",
     "output_type": "stream",
     "text": [
      "1\n"
     ]
    }
   ],
   "source": [
    "1 == 23\n",
    "print(1)"
   ]
  },
  {
   "cell_type": "code",
   "execution_count": 36,
   "id": "4aa4f699-2825-4d8e-9233-02e7ed872135",
   "metadata": {},
   "outputs": [
    {
     "name": "stdout",
     "output_type": "stream",
     "text": [
      "False\n"
     ]
    }
   ],
   "source": [
    "print(1 == 23)"
   ]
  },
  {
   "cell_type": "code",
   "execution_count": 38,
   "id": "a92ff12b-24bc-4936-b885-b192c6cc15f8",
   "metadata": {},
   "outputs": [
    {
     "ename": "SyntaxError",
     "evalue": "invalid decimal literal (2487001326.py, line 1)",
     "output_type": "error",
     "traceback": [
      "\u001b[1;36m  Cell \u001b[1;32mIn[38], line 1\u001b[1;36m\u001b[0m\n\u001b[1;33m    1_apple = 23\u001b[0m\n\u001b[1;37m     ^\u001b[0m\n\u001b[1;31mSyntaxError\u001b[0m\u001b[1;31m:\u001b[0m invalid decimal literal\n"
     ]
    }
   ],
   "source": [
    "1_apple = 23\n",
    "print(1_apple)"
   ]
  },
  {
   "cell_type": "code",
   "execution_count": 40,
   "id": "70dc345c-a663-42a3-a2b8-a465f9314097",
   "metadata": {},
   "outputs": [
    {
     "name": "stdout",
     "output_type": "stream",
     "text": [
      "25\n"
     ]
    }
   ],
   "source": [
    "apple_1 = 25\n",
    "print(apple_1)"
   ]
  },
  {
   "cell_type": "markdown",
   "id": "5b41ab6b-e4fa-4f31-9c4d-79b438a785c8",
   "metadata": {},
   "source": [
    "## A variable name can only contain alpha-numeric character and underscore (A-z, 0-9, and _)"
   ]
  },
  {
   "cell_type": "code",
   "execution_count": 43,
   "id": "f2d30c71-06a5-4ad8-8df6-2d26e37ad6ff",
   "metadata": {},
   "outputs": [
    {
     "name": "stdout",
     "output_type": "stream",
     "text": [
      "23\n"
     ]
    }
   ],
   "source": [
    "abc123nmp = 23\n",
    "print(abc123nmp)"
   ]
  },
  {
   "cell_type": "code",
   "execution_count": 45,
   "id": "2ead3b6d-f798-44c3-8250-05efb03d199a",
   "metadata": {},
   "outputs": [
    {
     "name": "stdout",
     "output_type": "stream",
     "text": [
      "1\n"
     ]
    }
   ],
   "source": [
    "abc456464562131 = 1\n",
    "print(abc456464562131)"
   ]
  },
  {
   "cell_type": "code",
   "execution_count": 47,
   "id": "71380322-a26a-4446-9c95-2faa05c54a1b",
   "metadata": {},
   "outputs": [
    {
     "ename": "SyntaxError",
     "evalue": "invalid syntax (2403893984.py, line 1)",
     "output_type": "error",
     "traceback": [
      "\u001b[1;36m  Cell \u001b[1;32mIn[47], line 1\u001b[1;36m\u001b[0m\n\u001b[1;33m    &$@ = 23\u001b[0m\n\u001b[1;37m    ^\u001b[0m\n\u001b[1;31mSyntaxError\u001b[0m\u001b[1;31m:\u001b[0m invalid syntax\n"
     ]
    }
   ],
   "source": [
    "&$@ = 23\n",
    "print(&$@)"
   ]
  },
  {
   "cell_type": "code",
   "execution_count": 49,
   "id": "3db5f5c7-46f3-461b-90cd-8ab2074b076d",
   "metadata": {},
   "outputs": [
    {
     "name": "stdout",
     "output_type": "stream",
     "text": [
      "5\n"
     ]
    }
   ],
   "source": [
    "_ = 5\n",
    "print(_)"
   ]
  },
  {
   "cell_type": "markdown",
   "id": "d51ab346-5cd6-421c-8cdf-6d9703681bcb",
   "metadata": {},
   "source": [
    "## Variable names are case-sensitive (age, Age and AGE are three different variables)"
   ]
  },
  {
   "cell_type": "code",
   "execution_count": 54,
   "id": "c00564ee-d765-4b62-b722-64ca70a3a094",
   "metadata": {},
   "outputs": [
    {
     "name": "stdout",
     "output_type": "stream",
     "text": [
      "23\n",
      "25\n",
      "29\n"
     ]
    }
   ],
   "source": [
    "age = 23\n",
    "AGE = 25\n",
    "Age = 29\n",
    "print(age)\n",
    "print(AGE)\n",
    "print(Age)"
   ]
  },
  {
   "cell_type": "markdown",
   "id": "c0a42eb9-1079-4404-942c-070002502a98",
   "metadata": {},
   "source": [
    "## Data Types in Python"
   ]
  },
  {
   "cell_type": "code",
   "execution_count": 61,
   "id": "9af2b3f6-e087-43e1-8637-df77058adf79",
   "metadata": {},
   "outputs": [
    {
     "name": "stdout",
     "output_type": "stream",
     "text": [
      "2\n",
      "<class 'int'>\n",
      "5.5\n",
      "<class 'float'>\n"
     ]
    }
   ],
   "source": [
    "a = 2\n",
    "b = 5.5\n",
    "c = \"Yash\"\n",
    "print(a)\n",
    "print(type(a))\n",
    "print(b)\n",
    "print(type(b))"
   ]
  },
  {
   "cell_type": "code",
   "execution_count": 63,
   "id": "36ba6ffd-4b8f-480c-90b1-cc499fa51afa",
   "metadata": {},
   "outputs": [
    {
     "name": "stdout",
     "output_type": "stream",
     "text": [
      "(2+3j)\n",
      "<class 'complex'>\n"
     ]
    }
   ],
   "source": [
    "v = 2+3j\n",
    "print(v)\n",
    "print(type(v))"
   ]
  },
  {
   "cell_type": "code",
   "execution_count": 65,
   "id": "fc6bc853-66ab-4f71-acd4-17873f0d9762",
   "metadata": {},
   "outputs": [
    {
     "name": "stdout",
     "output_type": "stream",
     "text": [
      "[23, 24, 25, 26]\n",
      "<class 'list'>\n"
     ]
    }
   ],
   "source": [
    "num = [23,24,25,26]\n",
    "print(num)\n",
    "print(type(num))"
   ]
  },
  {
   "cell_type": "code",
   "execution_count": 67,
   "id": "68136bd2-61f8-43e2-a603-03de0cef8bac",
   "metadata": {},
   "outputs": [
    {
     "name": "stdout",
     "output_type": "stream",
     "text": [
      "<class 'bool'>\n"
     ]
    }
   ],
   "source": [
    "num1 = True\n",
    "print(type(num1))"
   ]
  },
  {
   "cell_type": "code",
   "execution_count": 69,
   "id": "1bd77c7c-892b-463c-a286-9eaccbf3fd93",
   "metadata": {},
   "outputs": [
    {
     "name": "stdout",
     "output_type": "stream",
     "text": [
      "<class 'bool'>\n"
     ]
    }
   ],
   "source": [
    "num2 = False\n",
    "print(type(num2))"
   ]
  },
  {
   "cell_type": "markdown",
   "id": "c541b27e-f237-4740-b004-765457b0ef4d",
   "metadata": {},
   "source": [
    "## A variable name cannot be any of the Python keywords"
   ]
  },
  {
   "cell_type": "code",
   "execution_count": 72,
   "id": "5899c0b4-f695-4b47-b60e-ef465603ca9b",
   "metadata": {},
   "outputs": [
    {
     "ename": "TypeError",
     "evalue": "'int' object is not callable",
     "output_type": "error",
     "traceback": [
      "\u001b[1;31m---------------------------------------------------------------------------\u001b[0m",
      "\u001b[1;31mTypeError\u001b[0m                                 Traceback (most recent call last)",
      "Cell \u001b[1;32mIn[72], line 2\u001b[0m\n\u001b[0;32m      1\u001b[0m \u001b[38;5;28mprint\u001b[39m \u001b[38;5;241m=\u001b[39m \u001b[38;5;241m14\u001b[39m\n\u001b[1;32m----> 2\u001b[0m \u001b[38;5;28mprint\u001b[39m(\u001b[38;5;28mprint\u001b[39m)\n",
      "\u001b[1;31mTypeError\u001b[0m: 'int' object is not callable"
     ]
    }
   ],
   "source": [
    "print = 14\n",
    "print(print)"
   ]
  },
  {
   "cell_type": "code",
   "execution_count": 75,
   "id": "8ecc9f70-d689-46b1-963a-b27719a09ae4",
   "metadata": {},
   "outputs": [
    {
     "ename": "TypeError",
     "evalue": "'int' object is not callable",
     "output_type": "error",
     "traceback": [
      "\u001b[1;31m---------------------------------------------------------------------------\u001b[0m",
      "\u001b[1;31mTypeError\u001b[0m                                 Traceback (most recent call last)",
      "Cell \u001b[1;32mIn[75], line 2\u001b[0m\n\u001b[0;32m      1\u001b[0m \u001b[38;5;28mint\u001b[39m \u001b[38;5;241m=\u001b[39m \u001b[38;5;241m15\u001b[39m\n\u001b[1;32m----> 2\u001b[0m \u001b[38;5;28mprint\u001b[39m(\u001b[38;5;28mint\u001b[39m)\n",
      "\u001b[1;31mTypeError\u001b[0m: 'int' object is not callable"
     ]
    }
   ],
   "source": [
    "int = 15\n",
    "print(int)"
   ]
  },
  {
   "cell_type": "code",
   "execution_count": null,
   "id": "f14ab948-298b-498f-88f7-95918784b090",
   "metadata": {},
   "outputs": [],
   "source": []
  }
 ],
 "metadata": {
  "kernelspec": {
   "display_name": "Python 3 (ipykernel)",
   "language": "python",
   "name": "python3"
  },
  "language_info": {
   "codemirror_mode": {
    "name": "ipython",
    "version": 3
   },
   "file_extension": ".py",
   "mimetype": "text/x-python",
   "name": "python",
   "nbconvert_exporter": "python",
   "pygments_lexer": "ipython3",
   "version": "3.12.4"
  }
 },
 "nbformat": 4,
 "nbformat_minor": 5
}
